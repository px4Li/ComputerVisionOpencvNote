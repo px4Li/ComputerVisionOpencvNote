{
 "cells": [
  {
   "cell_type": "markdown",
   "metadata": {},
   "source": [
    "Section2 "
   ]
  },
  {
   "cell_type": "markdown",
   "metadata": {},
   "source": [
    "Data Read - Image\n",
    "- cv2.IMREAD_COLOR: Color image\n",
    "- cv2.IMREAD_GRAYSCALE: gray image"
   ]
  },
  {
   "cell_type": "code",
   "execution_count": 3,
   "metadata": {},
   "outputs": [],
   "source": [
    "import cv2\n",
    "import matplotlib.pyplot as plt \n",
    "import numpy as np\n",
    "#just for jupyter do not need use plt.show\n",
    "%matplotlib inline  \n",
    "\n",
    "img = cv2.imread('cat.jpg')"
   ]
  },
  {
   "cell_type": "code",
   "execution_count": 4,
   "metadata": {},
   "outputs": [
    {
     "data": {
      "text/plain": [
       "array([[[252, 249, 244],\n",
       "        [253, 250, 245],\n",
       "        [253, 250, 246],\n",
       "        ...,\n",
       "        [228, 225, 221],\n",
       "        [227, 224, 220],\n",
       "        [226, 223, 219]],\n",
       "\n",
       "       [[252, 249, 244],\n",
       "        [253, 250, 245],\n",
       "        [253, 250, 246],\n",
       "        ...,\n",
       "        [228, 225, 221],\n",
       "        [227, 224, 220],\n",
       "        [226, 223, 219]],\n",
       "\n",
       "       [[252, 249, 244],\n",
       "        [253, 250, 245],\n",
       "        [253, 250, 246],\n",
       "        ...,\n",
       "        [229, 226, 222],\n",
       "        [227, 224, 220],\n",
       "        [226, 223, 219]],\n",
       "\n",
       "       ...,\n",
       "\n",
       "       [[184, 182, 182],\n",
       "        [186, 184, 184],\n",
       "        [184, 182, 182],\n",
       "        ...,\n",
       "        [118, 134, 141],\n",
       "        [120, 133, 141],\n",
       "        [122, 135, 143]],\n",
       "\n",
       "       [[181, 179, 179],\n",
       "        [182, 180, 180],\n",
       "        [180, 178, 178],\n",
       "        ...,\n",
       "        [121, 137, 144],\n",
       "        [124, 137, 145],\n",
       "        [126, 139, 147]],\n",
       "\n",
       "       [[178, 175, 177],\n",
       "        [180, 177, 179],\n",
       "        [178, 175, 177],\n",
       "        ...,\n",
       "        [124, 139, 148],\n",
       "        [126, 142, 149],\n",
       "        [128, 144, 151]]], dtype=uint8)"
      ]
     },
     "execution_count": 4,
     "metadata": {},
     "output_type": "execute_result"
    }
   ],
   "source": [
    "img"
   ]
  },
  {
   "cell_type": "markdown",
   "metadata": {},
   "source": [
    "A uint8 is an 8-bit unsigned integer(0~255 decimal)"
   ]
  },
  {
   "cell_type": "code",
   "execution_count": null,
   "metadata": {},
   "outputs": [],
   "source": [
    "### Show image\n",
    "cv2.imshow('image', img)\n",
    "# Waiting(ms), zero show press any key to stop running programming\n",
    "cv2.waitKey(0)\n",
    "cv2.destroyAllWindows()"
   ]
  },
  {
   "cell_type": "code",
   "execution_count": 6,
   "metadata": {},
   "outputs": [],
   "source": [
    "#Convert it to Func\n",
    "def cv_show(name, img):\n",
    "    cv2.imshow(name, img)\n",
    "    cv2.waitKey(0)\n",
    "    cv2.destroyAllWindows()"
   ]
  },
  {
   "cell_type": "code",
   "execution_count": 11,
   "metadata": {},
   "outputs": [
    {
     "data": {
      "text/plain": [
       "(2667, 4000)"
      ]
     },
     "execution_count": 11,
     "metadata": {},
     "output_type": "execute_result"
    }
   ],
   "source": [
    "#get imge property\n",
    "img.shape"
   ]
  },
  {
   "cell_type": "markdown",
   "metadata": {},
   "source": [
    "(H, W, C) C:BGR"
   ]
  },
  {
   "cell_type": "code",
   "execution_count": 8,
   "metadata": {},
   "outputs": [
    {
     "data": {
      "text/plain": [
       "array([[248, 249, 249, ..., 224, 223, 222],\n",
       "       [248, 249, 249, ..., 224, 223, 222],\n",
       "       [248, 249, 249, ..., 225, 223, 222],\n",
       "       ...,\n",
       "       [182, 184, 182, ..., 134, 134, 136],\n",
       "       [179, 180, 178, ..., 137, 138, 140],\n",
       "       [176, 178, 176, ..., 140, 142, 144]], dtype=uint8)"
      ]
     },
     "execution_count": 8,
     "metadata": {},
     "output_type": "execute_result"
    }
   ],
   "source": [
    "img = cv2.imread('cat.jpg', cv2.IMREAD_GRAYSCALE)\n",
    "img"
   ]
  },
  {
   "cell_type": "code",
   "execution_count": 9,
   "metadata": {},
   "outputs": [
    {
     "data": {
      "text/plain": [
       "(2667, 4000)"
      ]
     },
     "execution_count": 9,
     "metadata": {},
     "output_type": "execute_result"
    }
   ],
   "source": [
    "img.shape"
   ]
  },
  {
   "cell_type": "markdown",
   "metadata": {},
   "source": [
    "### - there has only one color channel\n",
    "### - We can convert color to gray or gray to color at any time"
   ]
  },
  {
   "cell_type": "code",
   "execution_count": null,
   "metadata": {},
   "outputs": [],
   "source": [
    "#Save as new image\n",
    "cv2.imwrite('newcat.png', img)"
   ]
  },
  {
   "cell_type": "code",
   "execution_count": 10,
   "metadata": {},
   "outputs": [
    {
     "data": {
      "text/plain": [
       "numpy.ndarray"
      ]
     },
     "execution_count": 10,
     "metadata": {},
     "output_type": "execute_result"
    }
   ],
   "source": [
    "type(img)"
   ]
  },
  {
   "cell_type": "markdown",
   "metadata": {},
   "source": [
    "ndarray is a (usually fixed-size) multidimensional container of items of the same type and size:"
   ]
  },
  {
   "cell_type": "code",
   "execution_count": 15,
   "metadata": {},
   "outputs": [
    {
     "data": {
      "text/plain": [
       "10668000"
      ]
     },
     "execution_count": 15,
     "metadata": {},
     "output_type": "execute_result"
    }
   ],
   "source": [
    "#show pixel size of the image\n",
    "img.size"
   ]
  },
  {
   "cell_type": "code",
   "execution_count": 16,
   "metadata": {},
   "outputs": [
    {
     "data": {
      "text/plain": [
       "dtype('uint8')"
      ]
     },
     "execution_count": 16,
     "metadata": {},
     "output_type": "execute_result"
    }
   ],
   "source": [
    "#show type of the image\n",
    "img.dtype"
   ]
  },
  {
   "cell_type": "markdown",
   "metadata": {},
   "source": [
    "Data Read - Video\n",
    "- cv2.VideoCapture captures web-cam. Using numbers to control different devices"
   ]
  },
  {
   "cell_type": "code",
   "execution_count": 22,
   "metadata": {},
   "outputs": [],
   "source": [
    "vc = cv2.VideoCapture('test.mp4')"
   ]
  },
  {
   "cell_type": "code",
   "execution_count": 23,
   "metadata": {},
   "outputs": [],
   "source": [
    "#check for openning the video\n",
    "if vc.isOpened():\n",
    "    open, frame = vc.read()\n",
    "else:\n",
    "    open = False"
   ]
  },
  {
   "cell_type": "code",
   "execution_count": null,
   "metadata": {},
   "outputs": [],
   "source": [
    "while open:\n",
    "    ret, frame = vc.read()\n",
    "    if frame is None:\n",
    "        break\n",
    "    if ret == True:\n",
    "        gray = cv2.cvtColor(frame, cv2.COLOR_BGR2GRAY)\n",
    "        cv2.imshow('result', gray)\n",
    "        #wait the times then move to next frame\n",
    "        if cv2.waitKey(100) & 0xFF == 27:\n",
    "            break\n",
    "vc.release()\n",
    "cv2.destroyAllWindows()"
   ]
  }
 ],
 "metadata": {
  "kernelspec": {
   "display_name": "Python 3.9.12 ('base')",
   "language": "python",
   "name": "python3"
  },
  "language_info": {
   "codemirror_mode": {
    "name": "ipython",
    "version": 3
   },
   "file_extension": ".py",
   "mimetype": "text/x-python",
   "name": "python",
   "nbconvert_exporter": "python",
   "pygments_lexer": "ipython3",
   "version": "3.9.12"
  },
  "orig_nbformat": 4,
  "vscode": {
   "interpreter": {
    "hash": "d2ecc19c2dec7492ef4d01ac6f19d8344bb87b35cbdfe7cb4950c8d7780ba4c0"
   }
  }
 },
 "nbformat": 4,
 "nbformat_minor": 2
}
